{
 "cells": [
  {
   "cell_type": "code",
   "execution_count": 1,
   "id": "0bdba9bc",
   "metadata": {},
   "outputs": [],
   "source": [
    "import numpy as np\n",
    "import torch\n",
    "import matplotlib.pyplot as plt\n",
    "import cv2\n",
    "import os\n",
    "import glob\n",
    "import json\n",
    "import shutil"
   ]
  },
  {
   "cell_type": "code",
   "execution_count": 2,
   "id": "38c2c7b9",
   "metadata": {},
   "outputs": [],
   "source": [
    "os.chdir('/home/miner/Desktop/work/mine/repository/segment-anything/notebooks')"
   ]
  },
  {
   "cell_type": "code",
   "execution_count": 3,
   "id": "e88a30b6",
   "metadata": {},
   "outputs": [],
   "source": [
    "def show_anns(anns):\n",
    "    if len(anns) == 0:\n",
    "        return\n",
    "    sorted_anns = sorted(anns, key=(lambda x: x['area']), reverse=True)\n",
    "    ax = plt.gca()\n",
    "    ax.set_autoscale_on(False)\n",
    "    polygons = []\n",
    "    color = []\n",
    "    for ann in sorted_anns:\n",
    "        m = ann['segmentation']\n",
    "        img = np.ones((m.shape[0], m.shape[1], 3))\n",
    "        color_mask = np.random.random((1, 3)).tolist()[0]\n",
    "        for i in range(3):\n",
    "            img[:,:,i] = color_mask[i]\n",
    "        ax.imshow(np.dstack((img, m*0.35)))"
   ]
  },
  {
   "cell_type": "code",
   "execution_count": 4,
   "id": "de3106ac",
   "metadata": {},
   "outputs": [],
   "source": [
    "def save_anns_images(anns, image, prefix):\n",
    "    if len(anns) == 0:\n",
    "        return\n",
    "    sorted_anns = sorted(anns, key=(lambda x: x['area']), reverse=True)\n",
    "    ax = plt.gca()\n",
    "    ax.set_autoscale_on(False)\n",
    "    polygons = []\n",
    "    color = []\n",
    "\n",
    "    for idx, ann in enumerate(sorted_anns):\n",
    "        m = ann['segmentation']\n",
    "        img = image.copy()\n",
    "        \n",
    "        # Apply the segmentation mask\n",
    "        for i in range(3):\n",
    "            img[:,:,i] = img[:,:,i] * m\n",
    "            \n",
    "        # Extract the crop box from the annotation\n",
    "        crop_box = ann['crop_box']  # Assuming the crop box is in XYWH format\n",
    "        x, y, w, h = crop_box\n",
    "        x1, y1, x2, y2 = x, y, x + w, y + h\n",
    "\n",
    "        # Crop the image using the crop box\n",
    "        cropped_img = img[y1:y2, x1:x2]\n",
    "\n",
    "        # Save the image with the given prefix and index\n",
    "        output_filename = f\"{prefix}_{idx}.png\"\n",
    "        cv2.imwrite(output_filename, cv2.cvtColor(cropped_img, cv2.COLOR_RGB2BGR))\n",
    "        \n",
    "        # Save the metadata to a JSON file\n",
    "        metadata_filename = f\"{prefix}_meta_{idx}.json\"\n",
    "        metadata = {\n",
    "            'bbox': ann['bbox'],\n",
    "            'area': ann['area'],\n",
    "            'predicted_iou': ann['predicted_iou'],\n",
    "            'point_coords': ann['point_coords'],\n",
    "            'stability_score': ann['stability_score'],\n",
    "            'crop_box': ann['crop_box']\n",
    "        }\n",
    "        with open(metadata_filename, 'w') as json_file:\n",
    "            json.dump(metadata, json_file)"
   ]
  },
  {
   "cell_type": "code",
   "execution_count": 5,
   "id": "d2fab4d8",
   "metadata": {},
   "outputs": [],
   "source": [
    "def save_ocr_results(results, prefix):\n",
    "    # Save the metadata to a JSON file\n",
    "    filename = f\"{prefix}_ocr.json\"\n",
    "    \n",
    "    json_result = [\n",
    "        {\n",
    "            \"bounding_box\": coords,\n",
    "            \"text\": text,\n",
    "            \"confidence\": confidence,\n",
    "        }\n",
    "        for coords, text, confidence in results\n",
    "    ]\n",
    "    \n",
    "    def handle_non_serializable(obj):\n",
    "        if isinstance(obj, np.int64):\n",
    "            return int(obj)\n",
    "        raise TypeError(f'Object of type {obj.__class__.__name__} is not JSON serializable')\n",
    "    \n",
    "    with open(filename, \"w\") as f:\n",
    "        json.dump(json_result, f, default=handle_non_serializable, ensure_ascii=False, indent=4)"
   ]
  },
  {
   "cell_type": "code",
   "execution_count": 6,
   "id": "8fbfda95",
   "metadata": {},
   "outputs": [],
   "source": [
    "\n",
    "\n",
    "def get_png_filepaths(folder_path):\n",
    "    current_folder = os.getcwd()\n",
    "    os.chdir(folder_path)\n",
    "    png_files = [os.path.basename(file) for file in glob.glob(\"*.png\")]\n",
    "    os.chdir(current_folder)\n",
    "    return png_files\n",
    "    \n",
    "def get_png_filenames(folder_path):\n",
    "    current_folder = os.getcwd()\n",
    "    os.chdir(folder_path)\n",
    "    png_files = [(folder_path + '/' + os.path.basename(file)) for file in glob.glob(\"*.png\")]\n",
    "    os.chdir(current_folder)\n",
    "    return png_files"
   ]
  },
  {
   "cell_type": "code",
   "execution_count": 7,
   "id": "09b66c3c",
   "metadata": {},
   "outputs": [],
   "source": [
    "def process_image(image_file, prefix):\n",
    "    #Segment anything\n",
    "    image = cv2.imread(image_file)\n",
    "    image = cv2.cvtColor(image, cv2.COLOR_BGR2RGB)\n",
    "    \n",
    "    masks = mask_generator.generate(image)\n",
    "    print(\"masks len: \" + str(len(masks)))\n",
    "    \n",
    "    plt.figure(figsize=(20,200))\n",
    "    plt.imshow(image)\n",
    "    save_anns_images(masks, image, prefix)\n",
    "    show_anns(masks)\n",
    "#     plt.axis('off')\n",
    "    plt.show() \n",
    "    \n",
    "    #OCR\n",
    "    result = ocr_reader.readtext(image_file)\n",
    "    print(result)\n",
    "    save_ocr_results(result, prefix)\n",
    "\n"
   ]
  },
  {
   "cell_type": "code",
   "execution_count": 8,
   "id": "60f35970",
   "metadata": {
    "scrolled": true
   },
   "outputs": [
    {
     "name": "stdout",
     "output_type": "stream",
     "text": [
      "['predictor_example.ipynb', 'sam_onnx_quantized_example.onnx', 'sam_vit_l_0b3195.pth', 'onnx_model_example.ipynb', '.ipynb_checkpoints', 'sam_vit_h_4b8939.pth', 'webDemoInput', 'images', 'webDemoOutput', 'sam_onnx_example.onnx', 'sam_vit_b_01ec64.pth', 'automatic_mask_generator_example.ipynb', 'web_demo.ipynb']\n"
     ]
    }
   ],
   "source": [
    "def list_files_in_current_folder():\n",
    "    current_folder = os.getcwd()\n",
    "    files = os.listdir(current_folder)\n",
    "    return files\n",
    "\n",
    "files_list = list_files_in_current_folder()\n",
    "print(files_list)\n",
    "\n",
    "\n",
    "\n"
   ]
  },
  {
   "cell_type": "code",
   "execution_count": 9,
   "id": "ef01decf",
   "metadata": {},
   "outputs": [],
   "source": [
    "def clear_folder(folder_path):\n",
    "    for filename in os.listdir(folder_path):\n",
    "        file_path = os.path.join(folder_path, filename)\n",
    "        if os.path.isfile(file_path):\n",
    "            os.remove(file_path)\n",
    "            \n",
    "def clear_folder_recursively(folder_path):\n",
    "    # Check if the folder exists before trying to clear it\n",
    "    if os.path.exists(folder_path):\n",
    "        shutil.rmtree(folder_path)\n",
    "        # Recreate the folder after removing it\n",
    "        os.makedirs(folder_path)"
   ]
  },
  {
   "cell_type": "code",
   "execution_count": 10,
   "id": "04c89c31",
   "metadata": {},
   "outputs": [],
   "source": [
    "#Load Segment Anything AI module\n",
    "\n",
    "import sys\n",
    "sys.path.append(\"..\")\n",
    "from segment_anything import sam_model_registry, SamAutomaticMaskGenerator, SamPredictor\n",
    "\n",
    "sam_checkpoint = \"sam_vit_h_4b8939.pth\"\n",
    "model_type = \"vit_h\"\n",
    "\n",
    "device = \"cuda\"\n",
    "\n",
    "sam = sam_model_registry[model_type](checkpoint=sam_checkpoint)\n",
    "sam.to(device=device)\n",
    "\n",
    "#default model\n",
    "mask_generator = SamAutomaticMaskGenerator(sam)\n",
    "\n",
    "#custom model\n",
    "mask_generator_2 = SamAutomaticMaskGenerator(\n",
    "    model=sam,\n",
    "    points_per_side=32,\n",
    "    pred_iou_thresh=0.86,\n",
    "    stability_score_thresh=0.92,\n",
    "    crop_n_layers=1,\n",
    "    crop_n_points_downscale_factor=2,\n",
    "    min_mask_region_area=100,  # Requires open-cv to run post-processing\n",
    ")"
   ]
  },
  {
   "cell_type": "code",
   "execution_count": 11,
   "id": "64114d1a",
   "metadata": {},
   "outputs": [
    {
     "name": "stderr",
     "output_type": "stream",
     "text": [
      "/home/miner/anaconda3/envs/imageSegment/lib/python3.9/site-packages/torch/nn/parallel/data_parallel.py:32: UserWarning: \n",
      "    There is an imbalance between your GPUs. You may want to exclude GPU 1 which\n",
      "    has less than 75% of the memory or cores of GPU 0. You can do so by setting\n",
      "    the device_ids argument to DataParallel, or by setting the CUDA_VISIBLE_DEVICES\n",
      "    environment variable.\n",
      "  warnings.warn(imbalance_warn.format(device_ids[min_pos], device_ids[max_pos]))\n"
     ]
    }
   ],
   "source": [
    "#Load EasyOCR module\n",
    "\n",
    "import easyocr\n",
    "\n",
    "ocr_reader = easyocr.Reader(['en']) # this needs to run only once to load the model into memory"
   ]
  },
  {
   "cell_type": "code",
   "execution_count": 12,
   "id": "74d2bece",
   "metadata": {},
   "outputs": [
    {
     "name": "stdout",
     "output_type": "stream",
     "text": [
      "['webDemoInput/www.babiesrus.ca_en_Graco-Pack--n-Play-Day2Dream-Bassinet-Playard--Rainier_9405689D.html(Pixel 5).png', 'webDemoInput/www.babiesrus.ca_en_babiesrus_Category_Baby-Gear_Bassinets(Pixel 5) (1).png', 'webDemoInput/www.babiesrus.ca_en_home(Pixel 5) (1).png', 'webDemoInput/www.babiesrus.ca_en_cart(Pixel 5).png', 'webDemoInput/www.babiesrus.ca_en_home(Pixel 5).png', 'webDemoInput/www.babiesrus.ca_en_babiesrus_Category_Baby-Gear_Bassinets(Pixel 5).png', 'webDemoInput/www.babiesrus.ca_en_Safety-1st-Amherst-Bassinet_54095B36.html(Pixel 5).png']\n"
     ]
    }
   ],
   "source": [
    "input_path = \"webDemoInput\"\n",
    "png_files_array = get_png_filenames(input_path)\n",
    "print(png_files_array)\n",
    "\n",
    "#os.chdir('/home/miner/Desktop/work/mine/repository/segment-anything/notebooks')\n",
    "\n",
    "# Clear output folder\n",
    "output_path = \"webDemoOutput\"\n",
    "clear_folder_recursively(output_path)"
   ]
  },
  {
   "cell_type": "code",
   "execution_count": 13,
   "id": "31a7545f",
   "metadata": {},
   "outputs": [
    {
     "name": "stdout",
     "output_type": "stream",
     "text": [
      "[([[941, 250], [1017, 250], [1017, 338], [941, 338]], 'P', 0.246849482314361), ([[276, 558], [542, 558], [542, 619], [276, 619]], 'something fur', 0.9812687630681373), ([[334, 833], [715, 833], [715, 971], [334, 971]], 'FREE', 0.9492940306663513), ([[254, 946], [871, 946], [871, 1114], [254, 1114]], 'HIPPING', 0.4682771073035096), ([[262, 1120], [786, 1120], [786, 1196], [262, 1196]], 'ONBABY GEAR', 0.9910269048260235), ([[419, 1225], [643, 1225], [643, 1270], [419, 1270]], '1 LEARN MORE', 0.45099549830079916), ([[31, 1593], [403, 1593], [403, 1683], [31, 1683]], 'Bassinets', 0.8037108668533746), ([[33, 1710], [581, 1710], [581, 1771], [33, 1771]], 'Showing 24 of 36 products', 0.8971317783250488), ([[187, 1940], [325, 1940], [325, 2001], [187, 2001]], 'Selling', 0.8492228303310392), ([[457, 2109], [617, 2109], [617, 2153], [457, 2153]], 'FILTER', 0.9999835018602554), ([[61, 2902], [195, 2902], [195, 2947], [61, 2947]], 'Graco', 0.9999827268895326), ([[765, 2902], [937, 2902], [937, 2947], [765, 2947]], 'Amherst', 0.999923898000939), ([[71, 3067], [299, 3067], [299, 3128], [71, 3128]], 'KxXk', 0.02268347330391407), ([[558, 3067], [849, 3067], [849, 3128], [558, 3128]], 'XxxXt', 0.0501204967585111), ([[61, 3145], [246, 3145], [246, 3190], [61, 3190]], 'S369.99', 0.8737655729762558), ([[547, 3145], [732, 3145], [732, 3190], [547, 3190]], 'S159.99', 0.7349112856467273), ([[291, 3401], [502, 3401], [502, 3446], [291, 3446]], 'elivery:VSP', 0.9876621373164314), ([[752, 3401], [911, 3401], [911, 3446], [752, 3446]], ' Delivery', 0.7000489469541868), ([[135, 3566], [440, 3566], [440, 3627], [135, 3627]], 'ADD TO CART', 0.9919915499780049), ([[635, 3566], [939, 3566], [939, 3627], [635, 3627]], 'ADD TO CART', 0.9949262421110705), ([[317, 3709], [438, 3709], [438, 3753], [317, 3753]], ') BABY', 0.7262459176005758), ([[171, 3704], [302, 3704], [302, 3809], [171, 3809]], 'ADEGI', 0.4019254478619507), ([[61, 4502], [195, 4502], [195, 4547], [61, 4547]], 'HALO', 0.9997957348823547), ([[585, 4502], [681, 4502], [681, 4547], [585, 4547]], 'IALO', 0.9989469647407532), ([[59, 4551], [401, 4551], [401, 4613], [59, 4613]], 'Swivel Sleeper -.', 0.8579729033974958), ([[547, 4553], [681, 4553], [681, 4598], [547, 4598]], 'Swive', 0.8888036903245876), ([[71, 4667], [350, 4667], [350, 4728], [71, 4728]], 'KxxXX', 0.04693281302597117), ([[61, 4745], [233, 4745], [233, 4790], [61, 4790]], 'S289.99', 0.9651399306380646), ([[560, 4745], [668, 4745], [668, 4790], [560, 4790]], 'S349', 0.5326834321022034), ([[278, 5001], [412, 5001], [412, 5046], [278, 5046]], 'Jelivery', 0.6218171552599701), ([[816, 5001], [988, 5001], [988, 5046], [816, 5046]], 'livery:VSP', 0.7970981976899597), ([[137, 5168], [438, 5168], [438, 5212], [137, 5212]], 'ADD TO CART', 0.9489365552014106), ([[637, 5168], [937, 5168], [937, 5212], [637, 5212]], 'ADD TO CART', 0.9290606150800985), ([[265, 5296], [438, 5296], [438, 5340], [265, 5340]], 'TO BABY', 0.9991681729103493), ([[750, 5294], [926, 5294], [926, 5355], [750, 5355]], ' TO BABY', 0.42655918798811926), ([[173, 5306], [377, 5306], [377, 5382], [173, 5382]], 'AREGISTBY', 0.5716082137851355), ([[657, 5291], [801, 5291], [801, 5396], [657, 5396]], '+ AREGIS', 0.18838516923541979), ([[176, 6102], [297, 6102], [297, 6147], [176, 6147]], 'Baby', 0.5518255224852247), ([[752, 6102], [860, 6102], [860, 6147], [752, 6147]], 'nse2s', 0.42888826299392985), ([[61, 6153], [195, 6153], [195, 6198], [61, 6198]], 'Conto', 0.9999873117309294), ([[560, 6153], [681, 6153], [681, 6198], [560, 6198]], 'Bassir', 0.9999533767805878), ([[61, 6269], [348, 6269], [348, 6313], [61, 6313]], '37y7i7i7y ', 0.0035262156770915582), ([[557, 6266], [838, 6266], [838, 6342], [557, 6342]], 'Kkkk1', 0.062127878106260116), ([[61, 6345], [220, 6345], [220, 6390], [61, 6390]], 'S16.99', 0.8916482185086583), ([[547, 6345], [732, 6345], [732, 6390], [547, 6390]], '5459.99', 0.37114655767666077), ([[263, 6587], [504, 6587], [504, 6648], [263, 6648]], 'Delivery:VSP', 0.999314222479294), ([[752, 6589], [873, 6589], [873, 6633], [752, 6633]], 'Delive', 0.9999938192881466), ([[137, 6768], [438, 6768], [438, 6812], [137, 6812]], 'ADD TO CART', 0.701972189919073), ([[637, 6768], [937, 6768], [937, 6812], [637, 6812]], 'ADD TO CART', 0.9493159550054558), ([[145, 6891], [456, 6891], [456, 6996], [145, 6996]], '+ADEGIS BABY', 0.6235928029654662), ([[750, 6894], [926, 6894], [926, 6955], [750, 6955]], ') TO BABY', 0.6646887157818482), ([[259, 7679], [457, 7679], [457, 7753], [259, 7753]], 'FoldAway', 0.9986742313424287), ([[711, 7687], [965, 7687], [965, 7749], [711, 7749]], 'Dream Suite', 0.999191439420452), ([[189, 7753], [361, 7753], [361, 7798], [189, 7798]], '1g Wood', 0.7395054432865191), ([[59, 7931], [248, 7931], [248, 7992], [59, 7992]], 'S199.99', 0.8661129417675005), ([[560, 7945], [668, 7945], [668, 7990], [560, 7990]], '5299', 0.8897567987442017), ([[164, 8126], [309, 8126], [309, 8155], [164, 8155]], 'Free Stor', 0.5469859675676769), ([[406, 8189], [502, 8189], [502, 8233], [406, 8233]], ':VSP', 0.9930819272994995), ([[765, 8189], [911, 8189], [911, 8233], [765, 8233]], 'Deliverv', 0.9988355388560172), ([[137, 8368], [438, 8368], [438, 8412], [137, 8412]], 'ADD TO CART', 0.8335426262928369), ([[726, 8368], [937, 8368], [937, 8412], [726, 8412]], ') TO CART', 0.9179599495992402), ([[329, 8496], [438, 8496], [438, 8540], [329, 8540]], 'BABY', 0.9938006324563655), ([[816, 8496], [924, 8496], [924, 8540], [816, 8540]], 'BABY', 0.9997934103012085), ([[61, 9289], [220, 9289], [220, 9334], [61, 9334]], 'Evenflo', 0.6740366284855702), ([[637, 9289], [771, 9289], [771, 9334], [637, 9334]], 'Rockir', 0.9999537174530652), ([[801, 9287], [965, 9287], [965, 9349], [801, 9349]], 'Bassine', 0.9999960349923473), ([[61, 9341], [182, 9341], [182, 9385], [61, 9385]], 'Bassir', 0.9999218401297084), ([[814, 9339], [939, 9339], [939, 9400], [814, 9400]], 'Night', 0.9999970678386677), ([[59, 9454], [299, 9454], [299, 9515], [59, 9515]], 'Xkxk', 0.04798907786607742), ([[557, 9453], [838, 9453], [838, 9529], [557, 9529]], 'Xkkkn', 0.06717285026018957), ([[61, 9533], [246, 9533], [246, 9577], [61, 9577]], 'S169.99', 0.5812937887452703), ([[560, 9533], [732, 9533], [732, 9577], [560, 9577]], 'S136.99', 0.911229880665557), ([[342, 9789], [502, 9789], [502, 9833], [342, 9833]], 'very:VSP', 0.7282004489063472), ([[765, 9789], [873, 9789], [873, 9833], [765, 9833]], 'Delive', 0.7415097423691057), ([[135, 9953], [440, 9953], [440, 10014], [135, 10014]], 'ADD TO CART', 0.9943774661086824), ([[637, 9968], [732, 9968], [732, 10012], [637, 10012]], 'ADL', 0.3713475167751312), ([[801, 9953], [939, 9953], [939, 10014], [801, 10014]], ') CART', 0.8935604632078606), ([[146, 10092], [442, 10092], [442, 10183], [146, 10183]], '+ AREGISTRYBY', 0.43454614542768477), ([[761, 10092], [928, 10092], [928, 10183], [761, 10183]], 'ISRXBY', 0.17157551952177832), ([[637, 10889], [732, 10889], [732, 10934], [637, 10934]], 'Bed', 0.8097729086875916), ([[816, 10889], [937, 10889], [937, 10934], [816, 10934]], 'Bassir', 0.993489773335766), ([[163, 10941], [463, 10941], [463, 10985], [163, 10985]], 'uitv Snuaaitv. _', 0.7519035014211871), ([[560, 10941], [924, 10941], [924, 10985], [560, 10985]], 'Essential Graphite', 0.8197911139440607), ([[61, 11056], [348, 11056], [348, 11100], [61, 11100]], '37777777y', 0.025153298321502433), ([[558, 11054], [760, 11054], [760, 11115], [558, 11115]], 'XXXI', 0.09093181788921356), ([[61, 11133], [233, 11133], [233, 11177], [61, 11177]], 'S109.99', 0.7831230075685067), ([[547, 11133], [668, 11133], [668, 11177], [547, 11177]], 'S369', 0.7856013178825378), ([[329, 11389], [412, 11389], [412, 11433], [329, 11433]], 'ivery', 0.755337831548203), ([[137, 11555], [438, 11555], [438, 11599], [137, 11599]], 'ADD TO CART', 0.7551340124734036), ([[637, 11555], [937, 11555], [937, 11599], [637, 11599]], 'ADD TO CART', 0.9405673103973693), ([[144, 11677], [444, 11677], [444, 11785], [144, 11785]], '+ADEGIS BABY', 0.46793589942936253), ([[748, 11679], [928, 11679], [928, 11770], [748, 11770]], 'GISRXBY', 0.41858470553141874), ([[841, 12489], [937, 12489], [937, 12534], [841, 12534]], '~king', 0.7535049705192545), ([[61, 12541], [361, 12541], [361, 12585], [61, 12585]], 'Soothing View_', 0.749428491600142), ([[560, 12541], [668, 12541], [668, 12585], [560, 12585]], 'Bassin', 0.3024860723222557), ([[726, 12541], [860, 12541], [860, 12585], [726, 12585]], 'Safety ', 0.7425095019492504), ([[61, 12656], [323, 12656], [323, 12700], [61, 12700]], '777777779', 0.1724760020520883), ([[59, 12718], [248, 12718], [248, 12779], [59, 12779]], 'S199.99', 0.9212500601533119), ([[558, 12718], [734, 12718], [734, 12779], [558, 12779]], 'S149.99', 0.9329875647711653), ([[276, 12974], [504, 12974], [504, 13035], [276, 13035]], 'Delivery:VSP', 0.9986740867222411), ([[765, 12976], [988, 12976], [988, 13020], [765, 13020]], 'Deliverv:VSP', 0.9676202366578712), ([[137, 13155], [438, 13155], [438, 13199], [137, 13199]], 'ADD TO CART', 0.8434267540298518), ([[637, 13155], [937, 13155], [937, 13199], [637, 13199]], 'ADD TO CART', 0.8727622552260617), ([[201, 13321], [361, 13321], [361, 13366], [201, 13366]], 'REGISTR', 0.9999749032182174), ([[688, 13321], [873, 13321], [873, 13366], [688, 13366]], 'REGISTRY', 0.6621832152029719), ([[560, 14077], [899, 14077], [899, 14121], [560, 14121]], 'COSCO Bassinet', 0.6086242048724045), ([[137, 14141], [310, 14141], [310, 14185], [137, 14185]], 'Bassinet', 0.7039112774214815), ([[545, 14126], [965, 14126], [965, 14187], [545, 14187]], 'Sleep Spot Bassinet', 0.6698944722716945), ([[59, 14241], [235, 14241], [235, 14302], [59, 14302]], 'XXX', 0.0818397606603969), ([[557, 14240], [748, 14240], [748, 14316], [557, 14316]], 'Xkk', 0.09979270790726133), ([[61, 14320], [246, 14320], [246, 14364], [61, 14364]], 'S119.99', 0.8784344745342245), ([[726, 14320], [873, 14320], [873, 14364], [726, 14364]], 'S89.97', 0.7279243937114225), ([[150, 14499], [310, 14499], [310, 14543], [150, 14543]], 'Free Stor', 0.9166669403824427), ([[342, 14499], [463, 14499], [463, 14543], [342, 14543]], 'Pickup', 0.9996279253133564), ([[829, 14499], [963, 14499], [963, 14543], [829, 14543]], 'Pickup', 0.9943489410356144), ([[265, 14576], [502, 14576], [502, 14620], [265, 14620]], 'Deliverv:VSP', 0.9991230534889718), ([[750, 14574], [990, 14574], [990, 14635], [750, 14635]], ' Delivery:VSP', 0.8458646131159355), ([[135, 14740], [440, 14740], [440, 14801], [135, 14801]], 'ADD TO CART', 0.9919915499780049), ([[635, 14740], [939, 14740], [939, 14801], [635, 14801]], 'ADD TO CART', 0.9949262421110705), ([[774, 14880], [927, 14880], [927, 14956], [774, 14956]], 'IS BABY', 0.7331676410048127), ([[61, 15677], [246, 15677], [246, 15721], [61, 15721]], 'Bilv Rock', 0.6895271910752078), ([[317, 15677], [489, 15677], [489, 15721], [317, 15721]], 'Bassinet', 0.9999970497188015), ([[585, 15677], [732, 15677], [732, 15721], [585, 15721]], 'ilv Rocl', 0.7865557694283922), ([[803, 15677], [975, 15677], [975, 15721], [803, 15721]], 'Bassinet', 0.9999931722008861), ([[61, 15728], [361, 15728], [361, 15772], [61, 15772]], 'Serene Chevro', 0.8299575179499943), ([[688, 15728], [860, 15728], [860, 15772], [688, 15772]], ' Dreams', 0.8078534670483891), ([[58, 15840], [338, 15840], [338, 15916], [58, 15916]], 'X*kkn', 0.11598329209657073), ([[558, 15841], [849, 15841], [849, 15902], [558, 15902]], 'XxkKX', 0.012064236814212528), ([[61, 15920], [233, 15920], [233, 15964], [61, 15964]], 'S144.99', 0.7955308795670116), ([[560, 15920], [732, 15920], [732, 15964], [560, 15964]], 'S144.99', 0.7713477266881847), ([[816, 16176], [911, 16176], [911, 16220], [816, 16220]], 'livery', 0.9998150615994976), ([[588.0737387183583, 127.07192779749339], [725.8947832906489, 150.88128200323453], [714.9262612816417, 202.9280722025066], [577.1052167093511, 179.11871799676547]], 'elivery', 0.9999990087485627), ([[270.9780847968505, 208.0435921231512], [581.818563528793, 249.9211647213198], [562.0219152031494, 348.9564078768488], [251.18143647120706, 308.0788352786802]], 'BaBiesalus', 0.27877581991769773), ([[551.9666700642312, 2887.076689430349], [701.8513184264827, 2910.564926545804], [690.0333299357688, 2967.923310569651], [540.1486815735173, 2944.435073454196]], '~Safety', 0.4825529030685962), ([[691.0237203470788, 4540.068414464259], [854.9126129131881, 4568.897374627344], [841.9762796529212, 4624.931585535741], [678.0873870868119, 4597.102625372656]], ' Sleeper', 0.6467364746364708), ([[719.679940837737, 4667.343804764532], [846.3855132026658, 4647.180744752705], [854.320059162263, 4715.656195235468], [727.6144867973342, 4736.819255247295]], 'Xr', 0.3879326689054849), ([[63.08765689447635, 7683.069769814097], [187.82358518948445, 7704.555750873008], [175.91234310552363, 7759.930230185903], [51.17641481051557, 7738.444249126992]], 'Ingen', 0.995796542525914), ([[280.15046541746176, 8183.072699421278], [418.92605877409835, 8204.143294126245], [409.84953458253824, 8250.927300578722], [271.07394122590165, 8229.856705873755]], 'Delivery', 0.9999828040245655), ([[231.05939473479575, 9330.074186829213], [379.8940313985348, 9352.87732735266], [369.9406052652042, 9404.925813170787], [221.10596860146515, 9383.12267264734]], '- Grey', 0.752420678991035), ([[550.9973506193547, 9333.084368654194], [688.8851425191529, 9353.83162611752], [679.0026493806453, 9403.915631345806], [541.1148574808471, 9383.16837388248]], 'Starry', 0.9999633049392315), ([[679.0446053670523, 9332.076553275725], [814.9073750467154, 9355.949799991695], [803.9553946329477, 9405.923446724275], [668.0926249532846, 9382.050200008305]], 'I Starry', 0.5401420064679182), ([[690.9973506193547, 10113.084368654194], [853.9163526246627, 10134.001615494588], [845.0026493806453, 10183.915631345806], [682.0836473753373, 10162.998384505412]], '~REGISTR', 0.70268101024794), ([[563.0737387183583, 15718.071927797493], [687.8940313985348, 15742.87732735266], [675.9262612816417, 15793.928072202507], [550.1059686014652, 15769.12267264734]], 'Ocear', 0.9999468477543129)]\n"
     ]
    }
   ],
   "source": [
    "#Main logic\n",
    "output_prefix = output_path + '/' + input_path + '/' + png_files_array[1] + '/anns'\n",
    "os.makedirs(output_path + '/' + input_path + '/' + png_files_array[1])\n",
    "process_image(png_files_array[1], output_prefix)\n",
    "\n",
    "# for i, image in enumerate(png_files_array):\n",
    "#     output_prefix = output_path + '/' + input_path + '/' + png_files_array[i] + '/anns'\n",
    "#     os.makedirs(output_path + '/' + input_path + '/' + png_files_array[i])\n",
    "#     process_image(image, output_prefix)"
   ]
  },
  {
   "cell_type": "code",
   "execution_count": null,
   "id": "04b18fcf",
   "metadata": {},
   "outputs": [],
   "source": []
  },
  {
   "cell_type": "code",
   "execution_count": null,
   "id": "526ec90e",
   "metadata": {},
   "outputs": [],
   "source": [
    "\n",
    "\n"
   ]
  },
  {
   "cell_type": "code",
   "execution_count": null,
   "id": "5ab2bebd",
   "metadata": {},
   "outputs": [],
   "source": []
  },
  {
   "cell_type": "code",
   "execution_count": null,
   "id": "e916993b",
   "metadata": {},
   "outputs": [],
   "source": []
  }
 ],
 "metadata": {
  "kernelspec": {
   "display_name": "Python 3",
   "language": "python",
   "name": "python3"
  },
  "language_info": {
   "codemirror_mode": {
    "name": "ipython",
    "version": 3
   },
   "file_extension": ".py",
   "mimetype": "text/x-python",
   "name": "python",
   "nbconvert_exporter": "python",
   "pygments_lexer": "ipython3",
   "version": "3.9.16"
  }
 },
 "nbformat": 4,
 "nbformat_minor": 5
}
